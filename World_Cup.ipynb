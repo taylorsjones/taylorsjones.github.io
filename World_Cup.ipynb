{
 "cells": [
  {
   "cell_type": "markdown",
   "metadata": {},
   "source": [
    "# World Cup Fantasy Team Generator\n",
    "\n",
    "### December 7, 2017\n",
    "\n",
    "Dear Chris,\n",
    "\n",
    "After our brief discussions about picking which countries to root for for the world cup this year, I decided to try my hand at making a generator that picked 4 fair teams of eight countries each. I'm be curious to hear your thoughts.   \n",
    "\n",
    "-Taylor"
   ]
  },
  {
   "cell_type": "code",
   "execution_count": 101,
   "metadata": {},
   "outputs": [],
   "source": [
    "import pandas as pd\n",
    "from random import sample\n",
    "import numpy as np\n",
    "from itertools import permutations\n",
    "from itertools import combinations_with_replacement\n",
    "from itertools import chain\n",
    "\n",
    "import matplotlib.pyplot as plt\n",
    "import seaborn as sns\n",
    "%matplotlib inline"
   ]
  },
  {
   "cell_type": "markdown",
   "metadata": {},
   "source": [
    "## Country Rankings\n",
    "To compute the cost of each team, I started with the current betting odds on them according to the [Westgate Las Vegas SuperBook](http://www.espn.com/chalk/story/_/id/20991480/soccer-odds-win-2018-fifa-world-cup). Since I wanted to penalize the good teams even more, I use the natural log of the odds to weigh each team. Better countries have lower numbers, so the lower your total team number, the better your team."
   ]
  },
  {
   "cell_type": "code",
   "execution_count": 105,
   "metadata": {},
   "outputs": [],
   "source": [
    "country_costs = {'Russia':30,'Saudi Arabia':1000,'Egypt':150,'Uruguay':25,\\\n",
    "             'Portugal':20,'Spain':7,'Morocco':250,'Iran':250,\\\n",
    "             'France':5.5,'Australia':250,'Peru':200,'Denmark':80,\\\n",
    "             'Argentina':8,'Iceland':200,'Croatia':30,'Nigeria':200,\\\n",
    "             'Brazil':5,'Switzerland':80,'Costa Rica':250,'Serbia':150,\\\n",
    "             'Germany':4.5,'Mexico':60,'Sweden':80,'South Korea':500,\\\n",
    "             'Belgium':12,'Panama':1000,'Tunisia':500,'England':20,\\\n",
    "             'Poland':40,'Senegal':150,'Colombia':25,'Japan':125}"
   ]
  },
  {
   "cell_type": "code",
   "execution_count": 106,
   "metadata": {},
   "outputs": [],
   "source": [
    "countries = [*country_costs]\n",
    "costs_raw = list( country_costs.values() )\n",
    "costs = list(map(lambda x: np.log(x), costs_raw) )"
   ]
  },
  {
   "cell_type": "markdown",
   "metadata": {},
   "source": [
    "### Distribution of Rankings\n",
    "\n",
    "We can tweak the cost formula as needed, but as it stands, the spread of values looks pretty reasonable, but maybe we want more of a spread among the best couple of teams? "
   ]
  },
  {
   "cell_type": "code",
   "execution_count": 111,
   "metadata": {},
   "outputs": [
    {
     "data": {
      "image/png": "[encoded data removed]",
      "text/plain": [
       "<matplotlib.figure.Figure at 0x14a769550>"
      ]
     },
     "metadata": {},
     "output_type": "display_data"
    }
   ],
   "source": [
    "plt.hist(costs,bins=20)\n",
    "plt.title('Distribution of Country Costs')\n",
    "plt.show()"
   ]
  },
  {
   "cell_type": "markdown",
   "metadata": {},
   "source": [
    "## List out all of combinations to test for fairness\n",
    "\n",
    "The only rule is that each team has to contain one (and only one) team from each group. That way we don't cheer against ourselves in the group stage"
   ]
  },
  {
   "cell_type": "code",
   "execution_count": 24,
   "metadata": {
    "collapsed": true
   },
   "outputs": [],
   "source": [
    "teams = [0,1,2,3]\n",
    "pr = list ( permutations(teams) )\n",
    "list_of_orders = list( combinations_with_replacement(pr,8) )"
   ]
  },
  {
   "cell_type": "markdown",
   "metadata": {},
   "source": [
    "## Unfairness\n",
    "Each team gets a score equal to the sum of each of their countries' costs. Unfairness is defined as the standard deviation of the 4 team scores."
   ]
  },
  {
   "cell_type": "code",
   "execution_count": 96,
   "metadata": {
    "collapsed": true
   },
   "outputs": [],
   "source": [
    "def unfairness(x):\n",
    "    scores = [0,0,0,0]\n",
    "    for i,team in enumerate(chain(*x)):\n",
    "        scores[team] += costs[i]\n",
    "    return( np.std(scores) )"
   ]
  },
  {
   "cell_type": "code",
   "execution_count": 97,
   "metadata": {
    "collapsed": true
   },
   "outputs": [],
   "source": [
    "unfairness_list = list(map(unfairness,list_of_orders))"
   ]
  },
  {
   "cell_type": "code",
   "execution_count": 102,
   "metadata": {},
   "outputs": [
    {
     "data": {
      "image/png": "[encoded data removed]",
      "text/plain": [
       "<matplotlib.figure.Figure at 0x148fad6a0>"
      ]
     },
     "metadata": {},
     "output_type": "display_data"
    }
   ],
   "source": [
    "plt.hist(unfairness_list,bins=100)\n",
    "plt.xlabel('Unfairness')\n",
    "plt.title('Distribution of Team Fairness')\n",
    "plt.show()"
   ]
  },
  {
   "cell_type": "markdown",
   "metadata": {},
   "source": [
    "## Selecting the fairest set of teams"
   ]
  },
  {
   "cell_type": "markdown",
   "metadata": {},
   "source": [
    "The best set of teams is the set with the lowest unfairness. Since there can be more than one ideal solution, one of the ideal sets is selected at random."
   ]
  },
  {
   "cell_type": "code",
   "execution_count": 100,
   "metadata": {},
   "outputs": [],
   "source": [
    "lowest_score = min(unfairness_list)\n",
    "ls_idx = [i for i, v in enumerate(unfairness_list) if v == lowest_score]\n",
    "lucky_index = sample(ls_idx,1)[0]\n",
    "the_order = list_of_orders[lucky_index]"
   ]
  },
  {
   "cell_type": "code",
   "execution_count": 83,
   "metadata": {},
   "outputs": [],
   "source": [
    "groupSet = set(groups)\n",
    "df = pd.DataFrame({'country':countries,'Total Cost':odds,'Fantasy Team':list(chain(*the_order))})"
   ]
  },
  {
   "cell_type": "markdown",
   "metadata": {},
   "source": [
    "## How fair are the teams?\n",
    "\n",
    "According to formula, pretty darn fair. The difference between the best and worst team is 0.018, which is tiny considering country scores range from 1.5 to 6.9"
   ]
  },
  {
   "cell_type": "code",
   "execution_count": 117,
   "metadata": {},
   "outputs": [
    {
     "data": {
      "text/html": [
       "<div>\n",
       "<style>\n",
       "    .dataframe thead tr:only-child th {\n",
       "        text-align: right;\n",
       "    }\n",
       "\n",
       "    .dataframe thead th {\n",
       "        text-align: left;\n",
       "    }\n",
       "\n",
       "    .dataframe tbody tr th {\n",
       "        vertical-align: top;\n",
       "    }\n",
       "</style>\n",
       "<table border=\"1\" class=\"dataframe\">\n",
       "  <thead>\n",
       "    <tr style=\"text-align: right;\">\n",
       "      <th></th>\n",
       "      <th>odds</th>\n",
       "    </tr>\n",
       "    <tr>\n",
       "      <th>Fantasy Team</th>\n",
       "      <th></th>\n",
       "    </tr>\n",
       "  </thead>\n",
       "  <tbody>\n",
       "    <tr>\n",
       "      <th>0</th>\n",
       "      <td>33.894419</td>\n",
       "    </tr>\n",
       "    <tr>\n",
       "      <th>1</th>\n",
       "      <td>33.900117</td>\n",
       "    </tr>\n",
       "    <tr>\n",
       "      <th>2</th>\n",
       "      <td>33.898874</td>\n",
       "    </tr>\n",
       "    <tr>\n",
       "      <th>3</th>\n",
       "      <td>33.881768</td>\n",
       "    </tr>\n",
       "  </tbody>\n",
       "</table>\n",
       "</div>"
      ],
      "text/plain": [
       "                   odds\n",
       "Fantasy Team           \n",
       "0             33.894419\n",
       "1             33.900117\n",
       "2             33.898874\n",
       "3             33.881768"
      ]
     },
     "execution_count": 117,
     "metadata": {},
     "output_type": "execute_result"
    }
   ],
   "source": [
    "df.groupby('Fantasy Team').sum()"
   ]
  },
  {
   "cell_type": "markdown",
   "metadata": {},
   "source": [
    "## Whats Next?\n",
    "\n",
    "I could have displayed the teams here, but I didn't want to ruin the suprise in case we keep it this way. The thing to decide is if we like the cost function the way it is and how to award points during the world cup."
   ]
  },
  {
   "cell_type": "code",
   "execution_count": null,
   "metadata": {
    "collapsed": true
   },
   "outputs": [],
   "source": []
  }
 ],
 "metadata": {
  "kernelspec": {
   "display_name": "Python 3",
   "language": "python",
   "name": "python3"
  },
  "language_info": {
   "codemirror_mode": {
    "name": "ipython",
    "version": 3
   },
   "file_extension": ".py",
   "mimetype": "text/x-python",
   "name": "python",
   "nbconvert_exporter": "python",
   "pygments_lexer": "ipython3",
   "version": "3.6.1"
  }
 },
 "nbformat": 4,
 "nbformat_minor": 2
}
