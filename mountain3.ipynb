{
 "cells": [
  {
   "cell_type": "code",
   "execution_count": 1,
   "metadata": {
    "collapsed": false
   },
   "outputs": [
    {
     "data": {
      "image/png": "[encoded data removed]",
      "text/plain": [
       "<matplotlib.figure.Figure at 0x10d555358>"
      ]
     },
     "metadata": {},
     "output_type": "display_data"
    }
   ],
   "source": [
    "%pylab inline\n",
    "import matplotlib.pyplot as plt\n",
    "from ipywidgets import interact\n",
    "import ipywidgets as widgets\n",
    "\n",
    "nx = 51\n",
    "nz = 50\n",
    "h = 5\n",
    "w = 8\n",
    "G = np.zeros((nz,nx))\n",
    "\n",
    "rho = 2600 #kg/m3\n",
    "g = 9.8 #m/s2\n",
    "Y = 100e6\n",
    "\n",
    "xx = np.linspace(-30000,30000,nx)\n",
    "zz = np.linspace(.1,30000,nz)\n",
    "        \n",
    "def plt_update(height,width,shape):\n",
    "    if shape=='tri':\n",
    "        h = (1 - abs(xx)/width)*height\n",
    "    if shape=='box':\n",
    "        h = height*(abs(xx)<width)\n",
    "        \n",
    "    F = rho*g*h  #N/m2\n",
    "    \n",
    "    for k in range(0,nx):\n",
    "        for i in range(0,nx):\n",
    "            x = xx[i]\n",
    "            r = np.sqrt(x**2 + zz**2)\n",
    "            Gz = 3*F[k]*(zz**3)/(2*np.pi*(r**5))\n",
    "            Gx = 3*F[k]*(zz**2)/(2*np.pi*(r**5))\n",
    "            G[:,i] = G[:,i] + np.sqrt(Gz**2 + 2*Gx**2) \n",
    "    plt.subplot(2,1,1)\n",
    "    plt.plot(xx, h)\n",
    "    plt.ylim(0,10000)\n",
    "    plt.subplot(2,1,2)\n",
    "    levels = [.05,.1,.15,.2,.25,.3,.35,.4,.5]\n",
    "    plt.contourf(xx,-1*zz,np.log(G))\n",
    "    plt.colorbar(orientation='horizontal')\n",
    "    plt.show()\n",
    "\n",
    "interact(plt_update, height=widgets.IntSlider(min=0,max=10000,step=200,value=3000),\\\n",
    "         width=widgets.FloatSlider(min=0,max=30000,step=200,value=1000),\\\n",
    "         shape={'triangle':'tri','box':'box','crater':'crater','gaussian':'g'} )"
   ]
  },
  {
   "cell_type": "code",
   "execution_count": null,
   "metadata": {
    "collapsed": true
   },
   "outputs": [],
   "source": []
  }
 ],
 "metadata": {
  "anaconda-cloud": {},
  "kernelspec": {
   "display_name": "Python 3",
   "language": "python",
   "name": "python3"
  },
  "language_info": {
   "codemirror_mode": {
    "name": "ipython",
    "version": 3
   },
   "file_extension": ".py",
   "mimetype": "text/x-python",
   "name": "python",
   "nbconvert_exporter": "python",
   "pygments_lexer": "ipython3",
   "version": "3.5.2"
  },
  "widgets": {
   "state": {
    "aa990e7d623b47aaba8f9061d7c7f418": {
     "views": [
      {
       "cell_index": 0
      }
     ]
    }
   },
   "version": "1.2.0"
  }
 },
 "nbformat": 4,
 "nbformat_minor": 1
}
